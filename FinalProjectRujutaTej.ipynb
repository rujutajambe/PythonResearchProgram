{
  "nbformat": 4,
  "nbformat_minor": 0,
  "metadata": {
    "accelerator": "GPU",
    "colab": {
      "name": "FinalProjectRujutaTej.ipynb",
      "provenance": [],
      "collapsed_sections": [],
      "include_colab_link": true
    },
    "kernelspec": {
      "display_name": "Python 3",
      "name": "python3"
    },
    "language_info": {
      "name": "python"
    }
  },
  "cells": [
    {
      "cell_type": "markdown",
      "metadata": {
        "id": "view-in-github",
        "colab_type": "text"
      },
      "source": [
        "<a href=\"https://colab.research.google.com/github/rujutajambe/PythonResearchProgram/blob/main/FinalProjectRujutaTej.ipynb\" target=\"_parent\"><img src=\"https://colab.research.google.com/assets/colab-badge.svg\" alt=\"Open In Colab\"/></a>"
      ]
    },
    {
      "cell_type": "code",
      "metadata": {
        "colab": {
          "base_uri": "https://localhost:8080/"
        },
        "id": "z9fjf1-p-RnX",
        "outputId": "e1d5bbdc-5cd9-4cf0-bcf9-7e8332311eb8"
      },
      "source": [
        "!pip install kaggle --upgrade"
      ],
      "execution_count": null,
      "outputs": [
        {
          "output_type": "stream",
          "text": [
            "Requirement already satisfied: kaggle in /usr/local/lib/python3.7/dist-packages (1.5.12)\n",
            "Requirement already satisfied: certifi in /usr/local/lib/python3.7/dist-packages (from kaggle) (2021.5.30)\n",
            "Requirement already satisfied: six>=1.10 in /usr/local/lib/python3.7/dist-packages (from kaggle) (1.15.0)\n",
            "Requirement already satisfied: urllib3 in /usr/local/lib/python3.7/dist-packages (from kaggle) (1.24.3)\n",
            "Requirement already satisfied: requests in /usr/local/lib/python3.7/dist-packages (from kaggle) (2.23.0)\n",
            "Requirement already satisfied: python-dateutil in /usr/local/lib/python3.7/dist-packages (from kaggle) (2.8.2)\n",
            "Requirement already satisfied: tqdm in /usr/local/lib/python3.7/dist-packages (from kaggle) (4.62.0)\n",
            "Requirement already satisfied: python-slugify in /usr/local/lib/python3.7/dist-packages (from kaggle) (5.0.2)\n",
            "Requirement already satisfied: text-unidecode>=1.3 in /usr/local/lib/python3.7/dist-packages (from python-slugify->kaggle) (1.3)\n",
            "Requirement already satisfied: idna<3,>=2.5 in /usr/local/lib/python3.7/dist-packages (from requests->kaggle) (2.10)\n",
            "Requirement already satisfied: chardet<4,>=3.0.2 in /usr/local/lib/python3.7/dist-packages (from requests->kaggle) (3.0.4)\n"
          ],
          "name": "stdout"
        }
      ]
    },
    {
      "cell_type": "code",
      "metadata": {
        "id": "l9ud0gs_HPi8"
      },
      "source": [
        "!mkdir ~/.kaggle/"
      ],
      "execution_count": null,
      "outputs": []
    },
    {
      "cell_type": "code",
      "metadata": {
        "id": "MhtlRth9Hqm_",
        "colab": {
          "base_uri": "https://localhost:8080/"
        },
        "outputId": "0ef2b02f-56ff-4bb4-8dc2-ad7427c9466f"
      },
      "source": [
        "!cp kaggle.json ~/.kaggle/"
      ],
      "execution_count": null,
      "outputs": [
        {
          "output_type": "stream",
          "text": [
            "cp: cannot stat 'kaggle.json': No such file or directory\n"
          ],
          "name": "stdout"
        }
      ]
    },
    {
      "cell_type": "code",
      "metadata": {
        "id": "XgcK-n5qIOMZ",
        "colab": {
          "base_uri": "https://localhost:8080/"
        },
        "outputId": "18162046-5fb6-44a1-e27e-6d52a835850b"
      },
      "source": [
        "!chmod 600 /root/.kaggle/kaggle.json"
      ],
      "execution_count": null,
      "outputs": [
        {
          "output_type": "stream",
          "text": [
            "chmod: cannot access '/root/.kaggle/kaggle.json': No such file or directory\n"
          ],
          "name": "stdout"
        }
      ]
    },
    {
      "cell_type": "code",
      "metadata": {
        "colab": {
          "base_uri": "https://localhost:8080/"
        },
        "id": "1i-LxT_TH30Q",
        "outputId": "8d5e57cd-83b7-42fa-d8e6-4a68eb1d5098"
      },
      "source": [
        "!kaggle datasets download -d sartajbhuvaji/brain-tumor-classification-mri"
      ],
      "execution_count": null,
      "outputs": [
        {
          "output_type": "stream",
          "text": [
            "Traceback (most recent call last):\n",
            "  File \"/usr/local/bin/kaggle\", line 5, in <module>\n",
            "    from kaggle.cli import main\n",
            "  File \"/usr/local/lib/python2.7/dist-packages/kaggle/__init__.py\", line 23, in <module>\n",
            "    api.authenticate()\n",
            "  File \"/usr/local/lib/python2.7/dist-packages/kaggle/api/kaggle_api_extended.py\", line 146, in authenticate\n",
            "    self.config_file, self.config_dir))\n",
            "IOError: Could not find kaggle.json. Make sure it's located in /root/.kaggle. Or use the environment method.\n"
          ],
          "name": "stdout"
        }
      ]
    },
    {
      "cell_type": "code",
      "metadata": {
        "id": "bYnMdzrbJvtW"
      },
      "source": [
        "!mkdir dataset"
      ],
      "execution_count": null,
      "outputs": []
    },
    {
      "cell_type": "code",
      "metadata": {
        "colab": {
          "base_uri": "https://localhost:8080/"
        },
        "id": "OxEWj1f0J2cY",
        "outputId": "d6837b2c-1364-4707-e837-1e8bc92aa208"
      },
      "source": [
        "!unzip brain-tumor-classification-mri.zip -d dataset"
      ],
      "execution_count": null,
      "outputs": [
        {
          "output_type": "stream",
          "text": [
            "unzip:  cannot find or open brain-tumor-classification-mri.zip, brain-tumor-classification-mri.zip.zip or brain-tumor-classification-mri.zip.ZIP.\n"
          ],
          "name": "stdout"
        }
      ]
    },
    {
      "cell_type": "code",
      "metadata": {
        "id": "P506lA7rKAVT",
        "colab": {
          "base_uri": "https://localhost:8080/"
        },
        "outputId": "cf1d0dd3-f570-4d3f-bc67-325e59dab176"
      },
      "source": [
        "! ls dataset/"
      ],
      "execution_count": null,
      "outputs": [
        {
          "output_type": "stream",
          "text": [
            "Testing  Training\n"
          ],
          "name": "stdout"
        }
      ]
    },
    {
      "cell_type": "code",
      "metadata": {
        "colab": {
          "base_uri": "https://localhost:8080/"
        },
        "id": "bB0aVG2FKG42",
        "outputId": "75c4f6d5-cd5a-40b2-97a2-9b27931efbd5"
      },
      "source": [
        "! ls dataset/Testing"
      ],
      "execution_count": null,
      "outputs": [
        {
          "output_type": "stream",
          "text": [
            "glioma_tumor  meningioma_tumor\tno_tumor  pituitary_tumor\n"
          ],
          "name": "stdout"
        }
      ]
    },
    {
      "cell_type": "code",
      "metadata": {
        "colab": {
          "base_uri": "https://localhost:8080/"
        },
        "id": "1bSQtHWiKMjW",
        "outputId": "8fe25bac-e178-43e3-ddea-ca689a4ce974"
      },
      "source": [
        "! ls dataset/Testing/no_tumor"
      ],
      "execution_count": null,
      "outputs": [
        {
          "output_type": "stream",
          "text": [
            "'image(100).jpg'  'image(30).jpg'  'image(55).jpg'  'image(7).jpg'\n",
            "'image(101).jpg'  'image(31).jpg'  'image(56).jpg'  'image(80).jpg'\n",
            "'image(102).jpg'  'image(32).jpg'  'image(57).jpg'  'image(81).jpg'\n",
            "'image(103).jpg'  'image(33).jpg'  'image(58).jpg'  'image(82).jpg'\n",
            "'image(104).jpg'  'image(34).jpg'  'image(59).jpg'  'image(83).jpg'\n",
            "'image(10).jpg'   'image(35).jpg'  'image(5).jpg'   'image(84).jpg'\n",
            "'image(11).jpg'   'image(36).jpg'  'image(60).jpg'  'image(85).jpg'\n",
            "'image(12).jpg'   'image(37).jpg'  'image(61).jpg'  'image(86).jpg'\n",
            "'image(13).jpg'   'image(38).jpg'  'image(62).jpg'  'image(87).jpg'\n",
            "'image(14).jpg'   'image(39).jpg'  'image(63).jpg'  'image(88).jpg'\n",
            "'image(15).jpg'   'image(3).jpg'   'image(64).jpg'  'image(89).jpg'\n",
            "'image(16).jpg'   'image(40).jpg'  'image(65).jpg'  'image(8).jpg'\n",
            "'image(17).jpg'   'image(41).jpg'  'image(66).jpg'  'image(90).jpg'\n",
            "'image(18).jpg'   'image(42).jpg'  'image(67).jpg'  'image(91).jpg'\n",
            "'image(19).jpg'   'image(43).jpg'  'image(68).jpg'  'image(92).jpg'\n",
            "'image(1).jpg'\t  'image(44).jpg'  'image(69).jpg'  'image(93).jpg'\n",
            "'image(20).jpg'   'image(45).jpg'  'image(6).jpg'   'image(94).jpg'\n",
            "'image(21).jpg'   'image(46).jpg'  'image(70).jpg'  'image(95).jpg'\n",
            "'image(22).jpg'   'image(47).jpg'  'image(71).jpg'  'image(96).jpg'\n",
            "'image(23).jpg'   'image(48).jpg'  'image(72).jpg'  'image(97).jpg'\n",
            "'image(24).jpg'   'image(49).jpg'  'image(73).jpg'  'image(98).jpg'\n",
            "'image(25).jpg'   'image(4).jpg'   'image(74).jpg'  'image(99).jpg'\n",
            "'image(26).jpg'   'image(50).jpg'  'image(75).jpg'  'image(9).jpg'\n",
            "'image(27).jpg'   'image(51).jpg'  'image(76).jpg'   image.jpg\n",
            "'image(28).jpg'   'image(52).jpg'  'image(77).jpg'\n",
            "'image(29).jpg'   'image(53).jpg'  'image(78).jpg'\n",
            "'image(2).jpg'\t  'image(54).jpg'  'image(79).jpg'\n"
          ],
          "name": "stdout"
        }
      ]
    },
    {
      "cell_type": "code",
      "metadata": {
        "id": "ICZywTCwKnVZ"
      },
      "source": [
        "import matplotlib.pyplot as plt\n",
        "import numpy as np \n",
        "import cv2 as cv\n",
        "import os\n",
        "import PIL"
      ],
      "execution_count": null,
      "outputs": []
    },
    {
      "cell_type": "code",
      "metadata": {
        "colab": {
          "base_uri": "https://localhost:8080/",
          "height": 334
        },
        "id": "49JaCOsvKp85",
        "outputId": "c3b03860-c894-4a2f-c4d1-ecfa017252ee"
      },
      "source": [
        "# how an image looks\n",
        "I = np.asarray(PIL.Image.open(\"dataset/Testing/glioma_tumor/image(2).jpg\"))\n",
        "im = PIL.Image.fromarray(np.uint8(I))\n",
        "im"
      ],
      "execution_count": null,
      "outputs": [
        {
          "output_type": "error",
          "ename": "FileNotFoundError",
          "evalue": "ignored",
          "traceback": [
            "\u001b[0;31m---------------------------------------------------------------------------\u001b[0m",
            "\u001b[0;31mFileNotFoundError\u001b[0m                         Traceback (most recent call last)",
            "\u001b[0;32m<ipython-input-11-5fae2d6052f3>\u001b[0m in \u001b[0;36m<module>\u001b[0;34m()\u001b[0m\n\u001b[1;32m      1\u001b[0m \u001b[0;31m# how an image looks\u001b[0m\u001b[0;34m\u001b[0m\u001b[0;34m\u001b[0m\u001b[0;34m\u001b[0m\u001b[0m\n\u001b[0;32m----> 2\u001b[0;31m \u001b[0mI\u001b[0m \u001b[0;34m=\u001b[0m \u001b[0mnp\u001b[0m\u001b[0;34m.\u001b[0m\u001b[0masarray\u001b[0m\u001b[0;34m(\u001b[0m\u001b[0mPIL\u001b[0m\u001b[0;34m.\u001b[0m\u001b[0mImage\u001b[0m\u001b[0;34m.\u001b[0m\u001b[0mopen\u001b[0m\u001b[0;34m(\u001b[0m\u001b[0;34m\"dataset/Testing/glioma_tumor/image(2).jpg\"\u001b[0m\u001b[0;34m)\u001b[0m\u001b[0;34m)\u001b[0m\u001b[0;34m\u001b[0m\u001b[0;34m\u001b[0m\u001b[0m\n\u001b[0m\u001b[1;32m      3\u001b[0m \u001b[0mim\u001b[0m \u001b[0;34m=\u001b[0m \u001b[0mPIL\u001b[0m\u001b[0;34m.\u001b[0m\u001b[0mImage\u001b[0m\u001b[0;34m.\u001b[0m\u001b[0mfromarray\u001b[0m\u001b[0;34m(\u001b[0m\u001b[0mnp\u001b[0m\u001b[0;34m.\u001b[0m\u001b[0muint8\u001b[0m\u001b[0;34m(\u001b[0m\u001b[0mI\u001b[0m\u001b[0;34m)\u001b[0m\u001b[0;34m)\u001b[0m\u001b[0;34m\u001b[0m\u001b[0;34m\u001b[0m\u001b[0m\n\u001b[1;32m      4\u001b[0m \u001b[0mim\u001b[0m\u001b[0;34m\u001b[0m\u001b[0;34m\u001b[0m\u001b[0m\n",
            "\u001b[0;32m/usr/local/lib/python3.7/dist-packages/PIL/Image.py\u001b[0m in \u001b[0;36mopen\u001b[0;34m(fp, mode)\u001b[0m\n\u001b[1;32m   2841\u001b[0m \u001b[0;34m\u001b[0m\u001b[0m\n\u001b[1;32m   2842\u001b[0m     \u001b[0;32mif\u001b[0m \u001b[0mfilename\u001b[0m\u001b[0;34m:\u001b[0m\u001b[0;34m\u001b[0m\u001b[0;34m\u001b[0m\u001b[0m\n\u001b[0;32m-> 2843\u001b[0;31m         \u001b[0mfp\u001b[0m \u001b[0;34m=\u001b[0m \u001b[0mbuiltins\u001b[0m\u001b[0;34m.\u001b[0m\u001b[0mopen\u001b[0m\u001b[0;34m(\u001b[0m\u001b[0mfilename\u001b[0m\u001b[0;34m,\u001b[0m \u001b[0;34m\"rb\"\u001b[0m\u001b[0;34m)\u001b[0m\u001b[0;34m\u001b[0m\u001b[0;34m\u001b[0m\u001b[0m\n\u001b[0m\u001b[1;32m   2844\u001b[0m         \u001b[0mexclusive_fp\u001b[0m \u001b[0;34m=\u001b[0m \u001b[0;32mTrue\u001b[0m\u001b[0;34m\u001b[0m\u001b[0;34m\u001b[0m\u001b[0m\n\u001b[1;32m   2845\u001b[0m \u001b[0;34m\u001b[0m\u001b[0m\n",
            "\u001b[0;31mFileNotFoundError\u001b[0m: [Errno 2] No such file or directory: 'dataset/Testing/glioma_tumor/image(2).jpg'"
          ]
        }
      ]
    },
    {
      "cell_type": "code",
      "metadata": {
        "id": "XeZBdv0OMsmk"
      },
      "source": [
        "image_size = (150, 150)\n",
        "img_height = 150\n",
        "img_width = 150\n",
        "batch_size = 32"
      ],
      "execution_count": null,
      "outputs": []
    },
    {
      "cell_type": "code",
      "metadata": {
        "colab": {
          "base_uri": "https://localhost:8080/"
        },
        "id": "U8foma3WMt_r",
        "outputId": "0e84282f-aeb1-4cc8-aaee-73e462711908"
      },
      "source": [
        "# create the datasets using Keras DataSet object\n",
        "import tensorflow as tf \n",
        "from tensorflow import keras\n",
        "\n",
        "train_ds = tf.keras.preprocessing.image_dataset_from_directory(\n",
        "    \"dataset/Training/\",\n",
        "    image_size=image_size,\n",
        "    batch_size=batch_size,\n",
        ")\n",
        "test_ds = tf.keras.preprocessing.image_dataset_from_directory(\n",
        "    \"dataset/Testing/\",\n",
        "    image_size=image_size,\n",
        "    batch_size=batch_size,\n",
        ")"
      ],
      "execution_count": null,
      "outputs": [
        {
          "output_type": "stream",
          "text": [
            "Found 2870 files belonging to 4 classes.\n",
            "Found 394 files belonging to 4 classes.\n"
          ],
          "name": "stdout"
        }
      ]
    },
    {
      "cell_type": "code",
      "metadata": {
        "id": "p4L3vdSgMypW"
      },
      "source": [
        "im_classes = {\n",
        "  0 : 'Glioma',\n",
        "  1 : 'Meningioma',\n",
        "  2 : 'No Tumor',\n",
        "  3 : 'Pituitary',\n",
        "}\n",
        "class_labels = list(im_classes.values())\n",
        "num_classes = len(class_labels)"
      ],
      "execution_count": null,
      "outputs": []
    },
    {
      "cell_type": "code",
      "metadata": {
        "id": "35Uk-m46NTpM"
      },
      "source": [
        "from tensorflow.keras import layers\n",
        "from tensorflow.keras.models import Sequential\n",
        "from tensorflow.keras.layers import Dense, Conv2D, MaxPooling2D, Dropout, Flatten"
      ],
      "execution_count": null,
      "outputs": []
    },
    {
      "cell_type": "code",
      "metadata": {
        "id": "ZqTCLdnuNWNO",
        "colab": {
          "base_uri": "https://localhost:8080/",
          "height": 232
        },
        "outputId": "6aa70c31-ed28-468c-c38f-f8971adc04e6"
      },
      "source": [
        "num_classes = 4\n",
        "\n",
        "model = Sequential([\n",
        "  layers.experimental.preprocessing.Rescaling(1./255, input_shape=(img_height, img_width, 3)),\n",
        "  layers.Conv2D(16, 3, padding='same', activation='relu'),\n",
        "  layers.MaxPooling2D(),\n",
        "  layers.Conv2D(32, 3, padding='same', activation='relu'),\n",
        "  layers.MaxPooling2D(),\n",
        "  layers.Conv2D(64, 3, padding='same', activation='relu'),\n",
        "  layers.MaxPooling2D(),\n",
        "  layers.Flatten(),\n",
        "  layers.Dense(128, activation='relu'),\n",
        "  layers.Dense(num_classes)\n",
        "])"
      ],
      "execution_count": null,
      "outputs": [
        {
          "output_type": "error",
          "ename": "NameError",
          "evalue": "ignored",
          "traceback": [
            "\u001b[0;31m---------------------------------------------------------------------------\u001b[0m",
            "\u001b[0;31mNameError\u001b[0m                                 Traceback (most recent call last)",
            "\u001b[0;32m<ipython-input-1-59950a0ff05d>\u001b[0m in \u001b[0;36m<module>\u001b[0;34m()\u001b[0m\n\u001b[1;32m      1\u001b[0m \u001b[0mnum_classes\u001b[0m \u001b[0;34m=\u001b[0m \u001b[0;36m4\u001b[0m\u001b[0;34m\u001b[0m\u001b[0;34m\u001b[0m\u001b[0m\n\u001b[1;32m      2\u001b[0m \u001b[0;34m\u001b[0m\u001b[0m\n\u001b[0;32m----> 3\u001b[0;31m model = Sequential([\n\u001b[0m\u001b[1;32m      4\u001b[0m   \u001b[0mlayers\u001b[0m\u001b[0;34m.\u001b[0m\u001b[0mexperimental\u001b[0m\u001b[0;34m.\u001b[0m\u001b[0mpreprocessing\u001b[0m\u001b[0;34m.\u001b[0m\u001b[0mRescaling\u001b[0m\u001b[0;34m(\u001b[0m\u001b[0;36m1.\u001b[0m\u001b[0;34m/\u001b[0m\u001b[0;36m255\u001b[0m\u001b[0;34m,\u001b[0m \u001b[0minput_shape\u001b[0m\u001b[0;34m=\u001b[0m\u001b[0;34m(\u001b[0m\u001b[0mimg_height\u001b[0m\u001b[0;34m,\u001b[0m \u001b[0mimg_width\u001b[0m\u001b[0;34m,\u001b[0m \u001b[0;36m3\u001b[0m\u001b[0;34m)\u001b[0m\u001b[0;34m)\u001b[0m\u001b[0;34m,\u001b[0m\u001b[0;34m\u001b[0m\u001b[0;34m\u001b[0m\u001b[0m\n\u001b[1;32m      5\u001b[0m   \u001b[0mlayers\u001b[0m\u001b[0;34m.\u001b[0m\u001b[0mConv2D\u001b[0m\u001b[0;34m(\u001b[0m\u001b[0;36m16\u001b[0m\u001b[0;34m,\u001b[0m \u001b[0;36m3\u001b[0m\u001b[0;34m,\u001b[0m \u001b[0mpadding\u001b[0m\u001b[0;34m=\u001b[0m\u001b[0;34m'same'\u001b[0m\u001b[0;34m,\u001b[0m \u001b[0mactivation\u001b[0m\u001b[0;34m=\u001b[0m\u001b[0;34m'relu'\u001b[0m\u001b[0;34m)\u001b[0m\u001b[0;34m,\u001b[0m\u001b[0;34m\u001b[0m\u001b[0;34m\u001b[0m\u001b[0m\n",
            "\u001b[0;31mNameError\u001b[0m: name 'Sequential' is not defined"
          ]
        }
      ]
    },
    {
      "cell_type": "code",
      "metadata": {
        "id": "2FSPoKajNau_"
      },
      "source": [
        "model.compile(optimizer='adam', # adam is best optimizer (highest accuracy)\n",
        "              loss=tf.keras.losses.SparseCategoricalCrossentropy(from_logits=True),\n",
        "              metrics=['accuracy'])"
      ],
      "execution_count": null,
      "outputs": []
    },
    {
      "cell_type": "code",
      "metadata": {
        "colab": {
          "base_uri": "https://localhost:8080/"
        },
        "id": "6bTB1OO2Nd6O",
        "outputId": "2aeac390-25b2-4ec8-8e02-bf6c999da075"
      },
      "source": [
        "model.summary()"
      ],
      "execution_count": null,
      "outputs": [
        {
          "output_type": "stream",
          "text": [
            "Model: \"sequential\"\n",
            "_________________________________________________________________\n",
            "Layer (type)                 Output Shape              Param #   \n",
            "=================================================================\n",
            "rescaling (Rescaling)        (None, 150, 150, 3)       0         \n",
            "_________________________________________________________________\n",
            "conv2d (Conv2D)              (None, 150, 150, 16)      448       \n",
            "_________________________________________________________________\n",
            "max_pooling2d (MaxPooling2D) (None, 75, 75, 16)        0         \n",
            "_________________________________________________________________\n",
            "conv2d_1 (Conv2D)            (None, 75, 75, 32)        4640      \n",
            "_________________________________________________________________\n",
            "max_pooling2d_1 (MaxPooling2 (None, 37, 37, 32)        0         \n",
            "_________________________________________________________________\n",
            "conv2d_2 (Conv2D)            (None, 37, 37, 64)        18496     \n",
            "_________________________________________________________________\n",
            "max_pooling2d_2 (MaxPooling2 (None, 18, 18, 64)        0         \n",
            "_________________________________________________________________\n",
            "flatten (Flatten)            (None, 20736)             0         \n",
            "_________________________________________________________________\n",
            "dense (Dense)                (None, 128)               2654336   \n",
            "_________________________________________________________________\n",
            "dense_1 (Dense)              (None, 4)                 516       \n",
            "=================================================================\n",
            "Total params: 2,678,436\n",
            "Trainable params: 2,678,436\n",
            "Non-trainable params: 0\n",
            "_________________________________________________________________\n"
          ],
          "name": "stdout"
        }
      ]
    },
    {
      "cell_type": "code",
      "metadata": {
        "colab": {
          "base_uri": "https://localhost:8080/"
        },
        "id": "xOjnE4VoN0nY",
        "outputId": "c6a1cd73-cd3a-4e42-f4c9-99c015704065"
      },
      "source": [
        "epochs=10\n",
        "\n",
        "history = model.fit(\n",
        "  train_ds,\n",
        "  validation_data=test_ds,\n",
        "  epochs=epochs,\n",
        "  batch_size=batch_size\n",
        ")"
      ],
      "execution_count": null,
      "outputs": [
        {
          "output_type": "stream",
          "text": [
            "Epoch 1/10\n",
            "90/90 [==============================] - 36s 75ms/step - loss: 0.8766 - accuracy: 0.6408 - val_loss: 1.5082 - val_accuracy: 0.4137\n",
            "Epoch 2/10\n",
            "90/90 [==============================] - 7s 71ms/step - loss: 0.5110 - accuracy: 0.8052 - val_loss: 1.9290 - val_accuracy: 0.4975\n",
            "Epoch 3/10\n",
            "90/90 [==============================] - 6s 67ms/step - loss: 0.3020 - accuracy: 0.8895 - val_loss: 3.1031 - val_accuracy: 0.5635\n",
            "Epoch 4/10\n",
            "90/90 [==============================] - 6s 66ms/step - loss: 0.1949 - accuracy: 0.9359 - val_loss: 3.4791 - val_accuracy: 0.7081\n",
            "Epoch 5/10\n",
            "90/90 [==============================] - 6s 66ms/step - loss: 0.1353 - accuracy: 0.9512 - val_loss: 3.4574 - val_accuracy: 0.7538\n",
            "Epoch 6/10\n",
            "90/90 [==============================] - 7s 68ms/step - loss: 0.0640 - accuracy: 0.9794 - val_loss: 4.0060 - val_accuracy: 0.7741\n",
            "Epoch 7/10\n",
            "90/90 [==============================] - 6s 68ms/step - loss: 0.0323 - accuracy: 0.9902 - val_loss: 5.2886 - val_accuracy: 0.7081\n",
            "Epoch 8/10\n",
            "90/90 [==============================] - 6s 67ms/step - loss: 0.0528 - accuracy: 0.9801 - val_loss: 4.8046 - val_accuracy: 0.7487\n",
            "Epoch 9/10\n",
            "90/90 [==============================] - 6s 68ms/step - loss: 0.0274 - accuracy: 0.9944 - val_loss: 5.0482 - val_accuracy: 0.7766\n",
            "Epoch 10/10\n",
            "90/90 [==============================] - 6s 66ms/step - loss: 0.0228 - accuracy: 0.9923 - val_loss: 5.1444 - val_accuracy: 0.7437\n"
          ],
          "name": "stdout"
        }
      ]
    }
  ]
}